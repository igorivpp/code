{
  "nbformat": 4,
  "nbformat_minor": 0,
  "metadata": {
    "colab": {
      "name": "Campo_Minado.ipynb",
      "provenance": [],
      "authorship_tag": "ABX9TyOgPVKict9BfXtx0jEC44CI",
      "include_colab_link": true
    },
    "kernelspec": {
      "display_name": "Python 3",
      "name": "python3"
    },
    "language_info": {
      "name": "python"
    }
  },
  "cells": [
    {
      "cell_type": "markdown",
      "metadata": {
        "id": "view-in-github",
        "colab_type": "text"
      },
      "source": [
        "<a href=\"https://colab.research.google.com/github/igorivpp/code/blob/main/Campo_Minado.ipynb\" target=\"_parent\"><img src=\"https://colab.research.google.com/assets/colab-badge.svg\" alt=\"Open In Colab\"/></a>"
      ]
    },
    {
      "cell_type": "code",
      "metadata": {
        "id": "fRx2-6kdrixt"
      },
      "source": [
        "def solver(A):\n",
        "  counter = 0\n",
        "  m = len(A) #numero de linas\n",
        "  n = len(A[1][:]) # numero de colunas\n",
        "  solution = [\"?\"]*(n-1)\n",
        "\n",
        "  while counter < 10:\n",
        "    for i in range(m):\n",
        "      if np.all(A[i] == 0) == False:\n",
        "        upperbound = 0\n",
        "        lowerbound = 0\n",
        "        for j in range(n-1):\n",
        "          if A[i,j] < 0:\n",
        "            lowerbound += A[i,j]\n",
        "          elif A[i,j] >0:\n",
        "            upperbound += A[i,j]\n",
        "      \n",
        "        if upperbound == A[i,-1]:\n",
        "          #print(\"line\", i, \"meets upper bound\")\n",
        "          #solution = [0]*(n-1)\n",
        "          for p in range(n-1):\n",
        "            if A[i,p] > 0:\n",
        "              solution[p] = 1\n",
        "            elif A[i,p] < 0:\n",
        "              solution[p] = 0\n",
        "            #else:\n",
        "            #  solution[p] = \"?\"\n",
        "        elif lowerbound == A[i,-1]:\n",
        "        #print(\"line\", i, \"meets lower bound\")\n",
        "          for k in range(n-1):\n",
        "            if A[i,k] < 0:\n",
        "              solution[k] = 1\n",
        "            elif A[i,k] > 0:\n",
        "              solution[k] = 0\n",
        "            #else:\n",
        "            #  solution[k] = \"?\"\n",
        "        for i in range(n-1):\n",
        "          \n",
        "            if solution[i] == 0:\n",
        "              for j in range(m):\n",
        "                A[j][i] = 0\n",
        "            elif solution[i] == 1:\n",
        "              for j in range(m):\n",
        "                A[j][-1] += -1*A[j][i]\n",
        "                A[j][i] = 0\n",
        "    counter +=1\n",
        "    print(solution,counter)\n",
        "\n",
        "\n",
        "    # for i in range(n-1):\n",
        "    #   if solution[i] !=0 and solution[i] != 1:\n",
        "    #     counter+=1\n",
        "    # if counter == 10:\n",
        "    #   running = False\n",
        "\n",
        "        \n"
      ],
      "execution_count": 13,
      "outputs": []
    },
    {
      "cell_type": "code",
      "metadata": {
        "id": "HBv0kWygJIqK"
      },
      "source": [
        ""
      ],
      "execution_count": null,
      "outputs": []
    },
    {
      "cell_type": "code",
      "metadata": {
        "id": "oNsY9f6yVZB4"
      },
      "source": [
        "import numpy as np\n",
        "\n",
        "def CMS(A):\n",
        "  \n",
        "\n",
        "def gauss(A):\n",
        "    m = len(A) #numero de linas\n",
        "    n = len(A[1][:]) # numero de colunas\n",
        "    \n",
        "####Esta sequencia troca as linhas para que o pivo sempre seja diferente de zero\n",
        "    \n",
        "    def absum(entries):           #esta função será útil mais tarde, ela pega um vetor e soma o valor absoluto das coordenadas\n",
        "      return sum(abs(entries))        \n",
        "\n",
        "    somas = []        #Armazena a soma de cada linha exceto da ultima coluna\n",
        "    for i in range(m):\n",
        "      somas.insert(i,-absum(A[i][0:n-1])) #A funcao argsort abaixo nao reordena por ordem decrescente entao coloquei o -absum.\n",
        "    index = np.argsort(somas) #argsort cria um vetor com os indices apos o reordenamento.\n",
        "    A=A[index]  #reodena as linas de acordo com o vetor index.\n",
        "\n",
        "\n",
        "    for i in range(m-1):\n",
        "      if A[i][i] == 0:\n",
        "      for j in range(i+1,m):\n",
        "        if A[j][i] != 0 and sum(abs(A[j])) == sum(abs(A[i])): #ou seja, a linha só é trocada se a linha encontrada tem a mesma soma de valores absolutos\n",
        "          A[[j,i]] = A[[i,j]]\n",
        "          break\n",
        "    # for j in range(i,-1,-1):\n",
        "    #   if A[j][i] != 0:\n",
        "    #     A[[j,i]] = A[[i,j]]\n",
        "    #     break\n",
        "\n",
        "#Esta sequencia simplifica a matriz\n",
        "    for i in range(m-1):\n",
        "     for j in range(n):\n",
        "      A[i][j] = A[i][j] + (-1)*A[i+1][j]\n",
        "  ###################A partir daqui precisa de correção#################################  \n",
        "    solution = solver(A)\n",
        "    return solution"
      ],
      "execution_count": null,
      "outputs": []
    },
    {
      "cell_type": "code",
      "metadata": {
        "colab": {
          "base_uri": "https://localhost:8080/"
        },
        "id": "7zeoCCsZnBG1",
        "outputId": "ddb2ff7c-909c-4637-c74c-1905e1dff603"
      },
      "source": [
        "###Testing\n",
        "import numpy as np\n",
        "\n",
        "def randbin(M,N,P):  \n",
        "    return np.random.choice([0, 1], size=(M,N), p=[P, 1-P])\n",
        "\n",
        "#A = randbin(3,4,0.4)\n",
        "A = np.array(([1,1,0,0,0],[1,1,1,0,1],[0,1,1,1,1]))\n",
        "print(A)\n",
        "m = len(A) #numero de linas\n",
        "n = len(A[1][:]) # numero de colunas\n",
        "\n",
        "\n",
        "def absum(entries):\n",
        "  return sum(abs(entries))\n",
        "\n",
        "somas = []                            #Armazena a soma de cada linha exceto da ultima coluna\n",
        "for i in range(m):\n",
        "  somas.insert(i,-absum(A[i][0:n-1])) #A funcao argsort abaixo nao reordena por ordem decrescente entao coloquei o -absum.\n",
        "index = np.argsort(somas)             #argsort cria um vetor com os indices apos o reordenamento.\n",
        "A=A[index]                              #reodena as linas de acordo com o vetor index.\n",
        "print(A)\n",
        "for i in range(m-1):\n",
        "  if A[i][i] == 0:\n",
        "    for j in range(i+1,m):\n",
        "      if A[j][i] != 0 and sum(abs(A[j])) == sum(abs(A[i])):\n",
        "        A[[j,i]] = A[[i,j]]\n",
        "        break\n",
        "    # for j in range(i,-1,-1):\n",
        "    #   if A[j][i] != 0:\n",
        "    #     A[[j,i]] = A[[i,j]]\n",
        "    #     break\n",
        "print(A)\n",
        "\n",
        "for i in range(m-1):\n",
        "  for j in range(n):\n",
        "    A[i][j] = A[i][j] + (-1)*A[i+1][j]\n",
        "print(A)\n",
        "\n"
      ],
      "execution_count": null,
      "outputs": [
        {
          "output_type": "stream",
          "text": [
            "[[1 1 0 0 0]\n",
            " [1 1 1 0 1]\n",
            " [0 1 1 1 1]]\n",
            "[[1 1 1 0 1]\n",
            " [0 1 1 1 1]\n",
            " [1 1 0 0 0]]\n",
            "[[1 1 1 0 1]\n",
            " [0 1 1 1 1]\n",
            " [1 1 0 0 0]]\n",
            "[[ 1  0  0 -1  0]\n",
            " [-1  0  1  1  1]\n",
            " [ 1  1  0  0  0]]\n"
          ],
          "name": "stdout"
        }
      ]
    },
    {
      "cell_type": "code",
      "metadata": {
        "colab": {
          "base_uri": "https://localhost:8080/"
        },
        "id": "OnJuuX3N6QSq",
        "outputId": "c92ac5c5-9647-40db-faf2-776586ff34ff"
      },
      "source": [
        "#Matrizes usadas no artigo, boas pra testar o codigo\n",
        "import numpy as np\n",
        "\n",
        "def solver(A):\n",
        "  m = len(A) #numero de linas\n",
        "  n = len(A[1][:]) # numero de colunas\n",
        "\n",
        "  for i in range(m):\n",
        "    arr = A[i,:n-1]\n",
        "    copyarr = arr.copy()\n",
        "    for j in range(len(copyarr)):\n",
        "      if arr[j] > 0:\n",
        "        copyarr[j] = 0\n",
        "    if sum(copyarr) == A[i,-1]:\n",
        "      print(\"line \", i ,\"matches lowerbound\")\n",
        "      newarr = []\n",
        "      for k in range(len(arr)):\n",
        "        if arr[k] < 0:\n",
        "          newarr.insert(k,0)\n",
        "        else:\n",
        "          newarr.insert(k,1)\n",
        "      newarr.insert(len(newarr)+1,1)\n",
        "    arr = A[i,:n-1]\n",
        "    copyarr = arr.copy()\n",
        "    for j in range(len(copyarr)):\n",
        "      if arr[j] < 0:\n",
        "        copyarr[j] = 0\n",
        "    if sum(copyarr) == A[i,-1]:\n",
        "      print(\"line \", i, \" matches upper bound\")\n",
        "      newarr = [] \n",
        "      for k in range(len(arr)):\n",
        "        if arr[k] > 0:\n",
        "          newarr.insert(k,0)\n",
        "        else:\n",
        "          newarr.insert(k,1)\n",
        "      newarr.insert(len(newarr)+1,1)\n",
        "  return newarr\n",
        "B = np.array(([1,1,0,0,0],[-1,1,1,1,-1],[1,-2,0,0,-1]))\n",
        "\n",
        "solver(B)\n"
      ],
      "execution_count": null,
      "outputs": [
        {
          "output_type": "stream",
          "text": [
            "line  0 matches lowerbound\n",
            "line  1 matches lowerbound\n"
          ],
          "name": "stdout"
        },
        {
          "output_type": "execute_result",
          "data": {
            "text/plain": [
              "[0, 1, 1, 1, 1]"
            ]
          },
          "metadata": {
            "tags": []
          },
          "execution_count": 149
        }
      ]
    },
    {
      "cell_type": "code",
      "metadata": {
        "colab": {
          "base_uri": "https://localhost:8080/"
        },
        "id": "h2D_XgebHdOJ",
        "outputId": "a5de7d31-ba63-42f1-e264-e60a677c75ec"
      },
      "source": [
        "import numpy as np\n",
        "\n",
        "B = np.array(([1,1,0,0,0],[1,1,1,0,1],[0,1,1,1,1]))\n",
        "\n",
        "solver(B)"
      ],
      "execution_count": 17,
      "outputs": [
        {
          "output_type": "stream",
          "text": [
            "[0, 0, 1, 0] 1\n",
            "[0, 0, 1, 0] 2\n",
            "[0, 0, 1, 0] 3\n",
            "[0, 0, 1, 0] 4\n",
            "[0, 0, 1, 0] 5\n",
            "[0, 0, 1, 0] 6\n",
            "[0, 0, 1, 0] 7\n",
            "[0, 0, 1, 0] 8\n",
            "[0, 0, 1, 0] 9\n",
            "[0, 0, 1, 0] 10\n"
          ],
          "name": "stdout"
        }
      ]
    }
  ]
}